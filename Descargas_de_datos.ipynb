{
  "cells": [
    {
      "cell_type": "markdown",
      "metadata": {
        "id": "view-in-github",
        "colab_type": "text"
      },
      "source": [
        "<a href=\"https://colab.research.google.com/github/Jmerinom22/Codigo-Proyecto/blob/main/Descargas_de_datos.ipynb\" target=\"_parent\"><img src=\"https://colab.research.google.com/assets/colab-badge.svg\" alt=\"Open In Colab\"/></a>"
      ]
    },
    {
      "cell_type": "markdown",
      "source": [
        "# Descarga de los datos"
      ],
      "metadata": {
        "id": "DHF_XHyHxPj0"
      }
    },
    {
      "cell_type": "markdown",
      "metadata": {
        "id": "EnWW4SFeZtGD"
      },
      "source": [
        "##  **(La Paz)**"
      ]
    },
    {
      "cell_type": "code",
      "execution_count": null,
      "metadata": {
        "colab": {
          "base_uri": "https://localhost:8080/"
        },
        "id": "FnL9ieOPH5Jf",
        "outputId": "ad76f94c-9fc6-44b9-f95c-555750be0f2e"
      },
      "outputs": [
        {
          "output_type": "stream",
          "name": "stdout",
          "text": [
            "Descargando datos desde Open-Meteo...\n",
            "Datos descargados correctamente.\n",
            "Archivo guardado como 'base_datos_solar_lapaz_2025.csv' en el directorio actual.\n"
          ]
        }
      ],
      "source": [
        "import requests\n",
        "import pandas as pd\n",
        "\n",
        "# Coordenadas del lugar: La Paz, Cesar, Colombia\n",
        "latitude = 10.3844\n",
        "longitude = -73.1733\n",
        "\n",
        "start_date = \"2025-02-01\"\n",
        "end_date = \"2025-05-31\"\n",
        "\n",
        "variables = [\n",
        "    \"shortwave_radiation\",     # Radiación solar (W/m²)\n",
        "    \"temperature_2m\",          # Temperatura (°C)\n",
        "    \"wind_speed_10m\",          # Velocidad del viento (m/s)\n",
        "    \"relative_humidity_2m\"     # Humedad relativa (%)\n",
        "]\n",
        "\n",
        "\n",
        "base_url = \"https://archive-api.open-meteo.com/v1/archive\"\n",
        "params = {\n",
        "    \"latitude\": latitude,\n",
        "    \"longitude\": longitude,\n",
        "    \"start_date\": start_date,\n",
        "    \"end_date\": end_date,\n",
        "    \"hourly\": \",\".join(variables),\n",
        "    \"timezone\": \"America/Bogota\"\n",
        "}\n",
        "\n",
        "print(\"Descargando datos desde Open-Meteo...\")\n",
        "response = requests.get(base_url, params=params)\n",
        "\n",
        "if response.status_code == 200:\n",
        "    data = response.json()\n",
        "    df = pd.DataFrame(data[\"hourly\"])\n",
        "    print(\"Datos descargados correctamente.\")\n",
        "else:\n",
        "    print(\"Error en la solicitud:\", response.status_code)\n",
        "    exit()\n",
        "\n",
        "area_panel = 1.6        # m² por panel\n",
        "eficiencia = 0.20       # 20%\n",
        "perdidas = 0.15         # 15%\n",
        "factor = eficiencia * (1 - perdidas)\n",
        "\n",
        "df[\"energia_solar_kWh\"] = (df[\"shortwave_radiation\"] * area_panel * factor) / 1000\n",
        "\n",
        "nombre_archivo = \"base_datos_solar_lapaz_2025.csv\"\n",
        "df.to_csv(nombre_archivo, index=False)\n",
        "print(f\"Archivo guardado como '{nombre_archivo}' en el directorio actual.\")\n"
      ]
    },
    {
      "cell_type": "code",
      "execution_count": null,
      "metadata": {
        "colab": {
          "base_uri": "https://localhost:8080/",
          "height": 17
        },
        "id": "u9FXRJ7-IPIt",
        "outputId": "dc29fdbd-431e-4941-9bf2-ec66b26a2e2f"
      },
      "outputs": [
        {
          "output_type": "display_data",
          "data": {
            "text/plain": [
              "<IPython.core.display.Javascript object>"
            ],
            "application/javascript": [
              "\n",
              "    async function download(id, filename, size) {\n",
              "      if (!google.colab.kernel.accessAllowed) {\n",
              "        return;\n",
              "      }\n",
              "      const div = document.createElement('div');\n",
              "      const label = document.createElement('label');\n",
              "      label.textContent = `Downloading \"${filename}\": `;\n",
              "      div.appendChild(label);\n",
              "      const progress = document.createElement('progress');\n",
              "      progress.max = size;\n",
              "      div.appendChild(progress);\n",
              "      document.body.appendChild(div);\n",
              "\n",
              "      const buffers = [];\n",
              "      let downloaded = 0;\n",
              "\n",
              "      const channel = await google.colab.kernel.comms.open(id);\n",
              "      // Send a message to notify the kernel that we're ready.\n",
              "      channel.send({})\n",
              "\n",
              "      for await (const message of channel.messages) {\n",
              "        // Send a message to notify the kernel that we're ready.\n",
              "        channel.send({})\n",
              "        if (message.buffers) {\n",
              "          for (const buffer of message.buffers) {\n",
              "            buffers.push(buffer);\n",
              "            downloaded += buffer.byteLength;\n",
              "            progress.value = downloaded;\n",
              "          }\n",
              "        }\n",
              "      }\n",
              "      const blob = new Blob(buffers, {type: 'application/binary'});\n",
              "      const a = document.createElement('a');\n",
              "      a.href = window.URL.createObjectURL(blob);\n",
              "      a.download = filename;\n",
              "      div.appendChild(a);\n",
              "      a.click();\n",
              "      div.remove();\n",
              "    }\n",
              "  "
            ]
          },
          "metadata": {}
        },
        {
          "output_type": "display_data",
          "data": {
            "text/plain": [
              "<IPython.core.display.Javascript object>"
            ],
            "application/javascript": [
              "download(\"download_8d661d70-1cb7-403c-a7ef-acfeb86cd2c0\", \"base_datos_solar_lapaz_2025.csv\", 130635)"
            ]
          },
          "metadata": {}
        }
      ],
      "source": [
        "from google.colab import files\n",
        "\n",
        "files.download('base_datos_solar_lapaz_2025.csv')\n"
      ]
    },
    {
      "cell_type": "markdown",
      "source": [
        "## **(La Paz, San Diego, Valledupar)**"
      ],
      "metadata": {
        "id": "rLr_QL-Uru_C"
      }
    },
    {
      "cell_type": "code",
      "execution_count": null,
      "metadata": {
        "colab": {
          "base_uri": "https://localhost:8080/"
        },
        "id": "hEH9V0vWwmJO",
        "outputId": "f4626eff-e94b-4e4b-f7d1-2fbe690c9e2d"
      },
      "outputs": [
        {
          "output_type": "stream",
          "name": "stdout",
          "text": [
            "\n",
            " Descargando datos para La Paz...\n",
            "Datos descargados para La Paz.\n",
            "Archivo guardado: base_datos_solar_lapaz_2025.csv\n",
            "\n",
            " Descargando datos para San Diego...\n",
            "Datos descargados para San Diego.\n",
            "Archivo guardado: base_datos_solar_sandiego_2025.csv\n",
            "\n",
            " Descargando datos para Valledupar...\n",
            "Datos descargados para Valledupar.\n",
            "Archivo guardado: base_datos_solar_valledupar_2025.csv\n"
          ]
        }
      ],
      "source": [
        "import requests\n",
        "import pandas as pd\n",
        "\n",
        "start_date = \"2025-02-01\"\n",
        "end_date = \"2025-05-31\"\n",
        "\n",
        "variables = [\n",
        "    \"shortwave_radiation\",\n",
        "    \"temperature_2m\",\n",
        "    \"wind_speed_10m\",\n",
        "    \"relative_humidity_2m\"\n",
        "]\n",
        "\n",
        "base_url = \"https://archive-api.open-meteo.com/v1/archive\"\n",
        "\n",
        "zonas = {\n",
        "    \"lapaz\": {\"nombre\": \"La Paz\", \"lat\": 10.3844, \"lon\": -73.1733},\n",
        "    \"sandiego\": {\"nombre\": \"San Diego\", \"lat\": 10.3362, \"lon\": -73.182},\n",
        "    \"valledupar\": {\"nombre\": \"Valledupar\", \"lat\": 10.4631, \"lon\": -73.2532},\n",
        "}\n",
        "\n",
        "for clave, zona in zonas.items():\n",
        "    print(f\"\\n Descargando datos para {zona['nombre']}...\")\n",
        "\n",
        "    params = {\n",
        "        \"latitude\": zona[\"lat\"],\n",
        "        \"longitude\": zona[\"lon\"],\n",
        "        \"start_date\": start_date,\n",
        "        \"end_date\": end_date,\n",
        "        \"hourly\": \",\".join(variables),\n",
        "        \"timezone\": \"America/Bogota\"\n",
        "    }\n",
        "\n",
        "    response = requests.get(base_url, params=params)\n",
        "\n",
        "    if response.status_code == 200:\n",
        "        data = response.json()\n",
        "        df = pd.DataFrame(data[\"hourly\"])\n",
        "        print(f\"Datos descargados para {zona['nombre']}.\")\n",
        "\n",
        "        area_panel = 1.6\n",
        "        eficiencia = 0.20\n",
        "        perdidas = 0.15\n",
        "        factor = eficiencia * (1 - perdidas)\n",
        "        df[\"energia_solar_kWh\"] = (df[\"shortwave_radiation\"] * area_panel * factor) / 1000\n",
        "\n",
        "        nombre_archivo = f\"base_datos_solar_{clave}_2025.csv\"\n",
        "        df.to_csv(nombre_archivo, index=False)\n",
        "        print(f\"Archivo guardado: {nombre_archivo}\")\n",
        "    else:\n",
        "        print(f\"Error al descargar datos de {zona['nombre']}: {response.status_code}\")"
      ]
    },
    {
      "cell_type": "code",
      "execution_count": null,
      "metadata": {
        "colab": {
          "base_uri": "https://localhost:8080/"
        },
        "id": "8suScyLP0rM5",
        "outputId": "d7a78846-9197-48c4-ae9d-608f438383b5"
      },
      "outputs": [
        {
          "output_type": "stream",
          "name": "stdout",
          "text": [
            "Dataset unificado\n",
            "                 time  shortwave_radiation  temperature_2m  wind_speed_10m  \\\n",
            "0 2025-02-01 00:00:00                  0.0            25.5            23.1   \n",
            "1 2025-02-01 01:00:00                  0.0            25.0            21.8   \n",
            "2 2025-02-01 02:00:00                  0.0            24.6            20.3   \n",
            "3 2025-02-01 03:00:00                  0.0            24.3            19.7   \n",
            "4 2025-02-01 04:00:00                  0.0            23.9            18.9   \n",
            "\n",
            "   relative_humidity_2m  energia_solar_kWh    zona  \n",
            "0                    68                0.0  La Paz  \n",
            "1                    69                0.0  La Paz  \n",
            "2                    70                0.0  La Paz  \n",
            "3                    72                0.0  La Paz  \n",
            "4                    74                0.0  La Paz  \n"
          ]
        }
      ],
      "source": [
        "import pandas as pd\n",
        "\n",
        "lapaz = pd.read_csv(\"base_datos_solar_lapaz_2025.csv\")\n",
        "lapaz[\"zona\"] = \"La Paz\"\n",
        "\n",
        "sandiego = pd.read_csv(\"base_datos_solar_sandiego_2025.csv\")\n",
        "sandiego[\"zona\"] = \"San Diego\"\n",
        "\n",
        "valledupar = pd.read_csv(\"base_datos_solar_valledupar_2025.csv\")\n",
        "valledupar[\"zona\"] = \"Valledupar\"\n",
        "\n",
        "# Unir todos los DataFrames\n",
        "df_unido = pd.concat([lapaz, sandiego, valledupar], ignore_index=True)\n",
        "\n",
        "# Convertir la columna time a datetime\n",
        "df_unido[\"time\"] = pd.to_datetime(df_unido[\"time\"])\n",
        "\n",
        "# Verificar estructura\n",
        "print(\"Dataset unificado\")\n",
        "print(df_unido.head())"
      ]
    },
    {
      "cell_type": "code",
      "execution_count": null,
      "metadata": {
        "colab": {
          "base_uri": "https://localhost:8080/"
        },
        "id": "CFC9IXqp0u1g",
        "outputId": "90d16866-914c-477e-ecc6-0b9bc8a58623"
      },
      "outputs": [
        {
          "output_type": "stream",
          "name": "stdout",
          "text": [
            "Archivo guardado como 'base_datos_solar_zonas_unificadas_2025.csv'\n"
          ]
        }
      ],
      "source": [
        "# Guardar el DataFrame unificado\n",
        "nombre_archivo = \"base_datos_solar_zonas_unificadas_2025.csv\"\n",
        "df_unido.to_csv(nombre_archivo, index=False)\n",
        "\n",
        "print(f\"Archivo guardado como '{nombre_archivo}'\")\n"
      ]
    },
    {
      "cell_type": "code",
      "source": [
        "from google.colab import files\n",
        "files.download(\"base_datos_solar_zonas_unificadas_2025.csv\")"
      ],
      "metadata": {
        "colab": {
          "base_uri": "https://localhost:8080/",
          "height": 17
        },
        "id": "nQBDrz8tEJQW",
        "outputId": "845e8696-48c3-4a39-8806-d5817d5ecb9e"
      },
      "execution_count": null,
      "outputs": [
        {
          "output_type": "display_data",
          "data": {
            "text/plain": [
              "<IPython.core.display.Javascript object>"
            ],
            "application/javascript": [
              "\n",
              "    async function download(id, filename, size) {\n",
              "      if (!google.colab.kernel.accessAllowed) {\n",
              "        return;\n",
              "      }\n",
              "      const div = document.createElement('div');\n",
              "      const label = document.createElement('label');\n",
              "      label.textContent = `Downloading \"${filename}\": `;\n",
              "      div.appendChild(label);\n",
              "      const progress = document.createElement('progress');\n",
              "      progress.max = size;\n",
              "      div.appendChild(progress);\n",
              "      document.body.appendChild(div);\n",
              "\n",
              "      const buffers = [];\n",
              "      let downloaded = 0;\n",
              "\n",
              "      const channel = await google.colab.kernel.comms.open(id);\n",
              "      // Send a message to notify the kernel that we're ready.\n",
              "      channel.send({})\n",
              "\n",
              "      for await (const message of channel.messages) {\n",
              "        // Send a message to notify the kernel that we're ready.\n",
              "        channel.send({})\n",
              "        if (message.buffers) {\n",
              "          for (const buffer of message.buffers) {\n",
              "            buffers.push(buffer);\n",
              "            downloaded += buffer.byteLength;\n",
              "            progress.value = downloaded;\n",
              "          }\n",
              "        }\n",
              "      }\n",
              "      const blob = new Blob(buffers, {type: 'application/binary'});\n",
              "      const a = document.createElement('a');\n",
              "      a.href = window.URL.createObjectURL(blob);\n",
              "      a.download = filename;\n",
              "      div.appendChild(a);\n",
              "      a.click();\n",
              "      div.remove();\n",
              "    }\n",
              "  "
            ]
          },
          "metadata": {}
        },
        {
          "output_type": "display_data",
          "data": {
            "text/plain": [
              "<IPython.core.display.Javascript object>"
            ],
            "application/javascript": [
              "download(\"download_2ae09a4a-e691-49d4-b3b3-25862da498ed\", \"base_datos_solar_zonas_unificadas_2025.csv\", 461601)"
            ]
          },
          "metadata": {}
        }
      ]
    }
  ],
  "metadata": {
    "colab": {
      "collapsed_sections": [
        "rLr_QL-Uru_C",
        "TWknzml_9f-X",
        "YGruDPkoZ2pW",
        "2wqm90tcb9oq",
        "kbgHl0FCt6l_",
        "yurqUF0_ycsr",
        "yyNh5GYXZfCJ",
        "zogwQtSjBfXG",
        "oCKRhfKm32bi",
        "oPthlkJVniSR",
        "zSZSOE4qn9xc",
        "7Vy7JWZqOmkN",
        "Y5McrmfH385A",
        "l9Owej3A9c_r"
      ],
      "provenance": [],
      "authorship_tag": "ABX9TyPkDRMYFZG4i6KxgxJUMzPY",
      "include_colab_link": true
    },
    "kernelspec": {
      "display_name": "Python 3",
      "name": "python3"
    },
    "language_info": {
      "name": "python"
    }
  },
  "nbformat": 4,
  "nbformat_minor": 0
}